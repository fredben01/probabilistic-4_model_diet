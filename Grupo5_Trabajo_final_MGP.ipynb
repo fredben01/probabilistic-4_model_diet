{
  "cells": [
    {
      "attachments": {},
      "cell_type": "markdown",
      "metadata": {
        "id": "0EusJB9uam_z"
      },
      "source": [
        "![image.png](data:image/png;base64,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)"
      ]
    },
    {
      "attachments": {},
      "cell_type": "markdown",
      "metadata": {
        "id": "z8pjIwigatEk"
      },
      "source": [
        "### **MODELOS GRAFICOS PROBABILISTICOS - Trabajo Final**\n",
        "\n",
        "---\n",
        "\n",
        "\n",
        "\n",
        "**Grupo - 5: Nombres / Apellidos:**\n",
        "- Freddy Benjamin / Chilón Vargas.\n",
        "- Jose Felix, Enriquez Paniura.\n",
        "- Hans Aurelio, Garibaldi Bravo.\n",
        "- Fidel Antonio, Infante Angeles.\n",
        "- Johnny Rogger, Zapana Chura.\n",
        "\n",
        "\n",
        "\n",
        "---\n",
        "\n"
      ]
    },
    {
      "attachments": {},
      "cell_type": "markdown",
      "metadata": {
        "id": "8yqAmi5gaSF-"
      },
      "source": [
        "## **Modelo de Vida Saludable**"
      ]
    },
    {
      "attachments": {},
      "cell_type": "markdown",
      "metadata": {
        "id": "SGHYlBIaWnuW"
      },
      "source": [
        "A partir de el siguiente conjunto de datos se debe crear un Modelo Grafico Probabilístico (MGP) que represente el **La dieta recomendada** de una persona a fin de conocer la asociación entre los rasgos y/o atributos de diferentes características que puedan afectar a una vida saludable.\n",
        "\n",
        "El modelo esta compuesto por:\n"
      ]
    },
    {
      "attachments": {},
      "cell_type": "markdown",
      "metadata": {
        "id": "5GtZgCI8VUBN"
      },
      "source": [
        "- **Weight:** (0 - de 35 a 40 kg, 1 - de 40 a 55 kg, 2 - de 55 -70, 3 - de 70 a 85 kg, 4 - de 85 a 100, 5 - de 100 a más)\n",
        "\n",
        "- **Stature:** (0 - de  1.40 a 1.60 m, 1: de 1.61 a 1.80 m, 2: de 1.81 a 2.0 m., 3: de 2.1 a más)\n",
        "\n",
        "- **Age:** (0 - de 12 a 18 años (adolescencia), 1 - de 18 a 26 años(Juventud), 2 - de 26 a 60(Adultez), 3 - de 60 a más(Persona Mayor))\n",
        "\n",
        "- **Gender:** (0 - femenino, 1 - masculino)\n",
        "\n",
        "- **Waist measurement:** Medida de la cintura(0 - de 0 a 70 cm, 1 - de 0.71 a 0.8 cm, 2 - de 0.81 a 0.9 cm, 3 - de 0.91 a 1.0, 4 - de 1.1 a más)\n",
        "\n",
        "- **% fat man:** % de grasa (0 - de 2 a 5% en hombres y 10 a 13% en mujeres(Grasa esencial), 1 - de 6 a 13% en hombres y 14 a 20% en mujeres(Atleta), 2 - de 14 a 17% en hombres y de 21 a 24% en mujeres(Fitness), 3 - de 18 a 24% en hombres y de 25 a 31% en mujeres(Aceptable), 4 - de 25% a más en hombres y de 32% a más en mujeres(Obesidad))\n",
        "\n",
        "- **IMC:** Esta medida se calcula en base al peso y la estatura de un individuo (0 - de 0 a 18.5(Por debajo), 1 - 18.6 a 24.9(Saludable), 2 - 25 - 29.9(Sobrepeso), 3 - 30 a 34.9(Obesidad I), 4 - 35 a 39.9(Obesidad II), 5 - 40 a más(Obesidad III))\n",
        "\n",
        "- **Pathology:** (0 - Leche y lácteos, 1 - Carnes y grasas, 2 - Cereales, 3 - Frutas, 4 - Bebidas azucaradas, 5 - Grasas)\n",
        "\n",
        "- **Diet:**\t(0 - Bajas en carbohidratos,1 - Bajas en grasas, 2 - Bajas en calorías, 3 - Vegetariana, 4 - Protéica)\n",
        "\n",
        "- **Exercise:**\t(0 - Aeróbico, 1 - Fuerza o resistencia, 2 - Flexibilidad)"
      ]
    },
    {
      "attachments": {},
      "cell_type": "markdown",
      "metadata": {
        "id": "P8cLZ_moDx_A"
      },
      "source": [
        "### **0.  Librerias necesarias**"
      ]
    },
    {
      "cell_type": "code",
      "execution_count": 37,
      "metadata": {
        "colab": {
          "base_uri": "https://localhost:8080/"
        },
        "id": "Ty4hmfrXllJZ",
        "outputId": "932d0332-e6b9-473e-b89a-ad80dfc34194"
      },
      "outputs": [
        {
          "name": "stdout",
          "output_type": "stream",
          "text": [
            "Looking in indexes: https://pypi.org/simple, https://us-python.pkg.dev/colab-wheels/public/simple/\n",
            "Requirement already satisfied: pgmpy in /usr/local/lib/python3.10/dist-packages (0.1.22)\n",
            "Requirement already satisfied: networkx in /usr/local/lib/python3.10/dist-packages (from pgmpy) (3.1)\n",
            "Requirement already satisfied: numpy in /usr/local/lib/python3.10/dist-packages (from pgmpy) (1.22.4)\n",
            "Requirement already satisfied: scipy in /usr/local/lib/python3.10/dist-packages (from pgmpy) (1.10.1)\n",
            "Requirement already satisfied: scikit-learn in /usr/local/lib/python3.10/dist-packages (from pgmpy) (1.2.2)\n",
            "Requirement already satisfied: pandas in /usr/local/lib/python3.10/dist-packages (from pgmpy) (1.5.3)\n",
            "Requirement already satisfied: pyparsing in /usr/local/lib/python3.10/dist-packages (from pgmpy) (3.1.0)\n",
            "Requirement already satisfied: torch in /usr/local/lib/python3.10/dist-packages (from pgmpy) (2.0.1+cu118)\n",
            "Requirement already satisfied: statsmodels in /usr/local/lib/python3.10/dist-packages (from pgmpy) (0.13.5)\n",
            "Requirement already satisfied: tqdm in /usr/local/lib/python3.10/dist-packages (from pgmpy) (4.65.0)\n",
            "Requirement already satisfied: joblib in /usr/local/lib/python3.10/dist-packages (from pgmpy) (1.2.0)\n",
            "Requirement already satisfied: opt-einsum in /usr/local/lib/python3.10/dist-packages (from pgmpy) (3.3.0)\n",
            "Requirement already satisfied: python-dateutil>=2.8.1 in /usr/local/lib/python3.10/dist-packages (from pandas->pgmpy) (2.8.2)\n",
            "Requirement already satisfied: pytz>=2020.1 in /usr/local/lib/python3.10/dist-packages (from pandas->pgmpy) (2022.7.1)\n",
            "Requirement already satisfied: threadpoolctl>=2.0.0 in /usr/local/lib/python3.10/dist-packages (from scikit-learn->pgmpy) (3.1.0)\n",
            "Requirement already satisfied: patsy>=0.5.2 in /usr/local/lib/python3.10/dist-packages (from statsmodels->pgmpy) (0.5.3)\n",
            "Requirement already satisfied: packaging>=21.3 in /usr/local/lib/python3.10/dist-packages (from statsmodels->pgmpy) (23.1)\n",
            "Requirement already satisfied: filelock in /usr/local/lib/python3.10/dist-packages (from torch->pgmpy) (3.12.2)\n",
            "Requirement already satisfied: typing-extensions in /usr/local/lib/python3.10/dist-packages (from torch->pgmpy) (4.6.3)\n",
            "Requirement already satisfied: sympy in /usr/local/lib/python3.10/dist-packages (from torch->pgmpy) (1.11.1)\n",
            "Requirement already satisfied: jinja2 in /usr/local/lib/python3.10/dist-packages (from torch->pgmpy) (3.1.2)\n",
            "Requirement already satisfied: triton==2.0.0 in /usr/local/lib/python3.10/dist-packages (from torch->pgmpy) (2.0.0)\n",
            "Requirement already satisfied: cmake in /usr/local/lib/python3.10/dist-packages (from triton==2.0.0->torch->pgmpy) (3.25.2)\n",
            "Requirement already satisfied: lit in /usr/local/lib/python3.10/dist-packages (from triton==2.0.0->torch->pgmpy) (16.0.6)\n",
            "Requirement already satisfied: six in /usr/local/lib/python3.10/dist-packages (from patsy>=0.5.2->statsmodels->pgmpy) (1.16.0)\n",
            "Requirement already satisfied: MarkupSafe>=2.0 in /usr/local/lib/python3.10/dist-packages (from jinja2->torch->pgmpy) (2.1.3)\n",
            "Requirement already satisfied: mpmath>=0.19 in /usr/local/lib/python3.10/dist-packages (from sympy->torch->pgmpy) (1.3.0)\n"
          ]
        }
      ],
      "source": [
        "# Incluir / instalar las librerias necesarias para carga de datos, pre procesamiento, representacion, inferencia y aprendizaje de MGP\n",
        "!pip install pgmpy\n",
        "\n",
        "import pandas as pd\n",
        "import numpy as np\n",
        "import warnings\n",
        "import networkx as nx\n",
        "from pgmpy.estimators import TreeSearch\n",
        "from pgmpy.models import BayesianNetwork\n",
        "from pgmpy.inference import VariableElimination\n",
        "from sklearn.metrics import accuracy_score\n",
        "\n",
        "warnings.simplefilter('ignore')\n"
      ]
    },
    {
      "attachments": {},
      "cell_type": "markdown",
      "metadata": {
        "id": "isZc3BYqD9JG"
      },
      "source": [
        "### **1. Pre procesamiento de los datos**\n",
        "\n",
        "El dataset debe ajustarse a los datos que se brindan en el inicio"
      ]
    },
    {
      "cell_type": "code",
      "execution_count": 38,
      "metadata": {
        "colab": {
          "base_uri": "https://localhost:8080/",
          "height": 206
        },
        "id": "N8eZt6bIlcDB",
        "outputId": "4a299ab3-85f6-463e-d001-485028dfc767"
      },
      "outputs": [
        {
          "data": {
            "text/html": [
              "\n",
              "  <div id=\"df-85fea5f4-d667-4673-868a-c6cfabd973ed\">\n",
              "    <div class=\"colab-df-container\">\n",
              "      <div>\n",
              "<style scoped>\n",
              "    .dataframe tbody tr th:only-of-type {\n",
              "        vertical-align: middle;\n",
              "    }\n",
              "\n",
              "    .dataframe tbody tr th {\n",
              "        vertical-align: top;\n",
              "    }\n",
              "\n",
              "    .dataframe thead th {\n",
              "        text-align: right;\n",
              "    }\n",
              "</style>\n",
              "<table border=\"1\" class=\"dataframe\">\n",
              "  <thead>\n",
              "    <tr style=\"text-align: right;\">\n",
              "      <th></th>\n",
              "      <th>usuario_id</th>\n",
              "      <th>Nombre</th>\n",
              "      <th>Sexo</th>\n",
              "      <th>Edad</th>\n",
              "      <th>Talla (m)</th>\n",
              "      <th>Peso (kg)</th>\n",
              "      <th>IMC</th>\n",
              "      <th>P_grasa (%)</th>\n",
              "      <th>Cintura (cm)</th>\n",
              "      <th>Ejercicio</th>\n",
              "      <th>Patologia</th>\n",
              "      <th>Dieta</th>\n",
              "    </tr>\n",
              "  </thead>\n",
              "  <tbody>\n",
              "    <tr>\n",
              "      <th>0</th>\n",
              "      <td>36</td>\n",
              "      <td>Nictza</td>\n",
              "      <td>F</td>\n",
              "      <td>41</td>\n",
              "      <td>1.70</td>\n",
              "      <td>64.2</td>\n",
              "      <td>22.2</td>\n",
              "      <td>0.39</td>\n",
              "      <td>81.5</td>\n",
              "      <td>Resistencia</td>\n",
              "      <td>Carnes grasas</td>\n",
              "      <td>Vegetariana</td>\n",
              "    </tr>\n",
              "    <tr>\n",
              "      <th>1</th>\n",
              "      <td>137</td>\n",
              "      <td>Carla</td>\n",
              "      <td>F</td>\n",
              "      <td>50</td>\n",
              "      <td>1.70</td>\n",
              "      <td>88.1</td>\n",
              "      <td>30.5</td>\n",
              "      <td>0.32</td>\n",
              "      <td>103.7</td>\n",
              "      <td>Aeróbico</td>\n",
              "      <td>Frutas</td>\n",
              "      <td>Vegetariana</td>\n",
              "    </tr>\n",
              "    <tr>\n",
              "      <th>2</th>\n",
              "      <td>141</td>\n",
              "      <td>Jhonatan</td>\n",
              "      <td>M</td>\n",
              "      <td>38</td>\n",
              "      <td>1.75</td>\n",
              "      <td>57.5</td>\n",
              "      <td>18.8</td>\n",
              "      <td>0.42</td>\n",
              "      <td>84.5</td>\n",
              "      <td>Aeróbico</td>\n",
              "      <td>Leche y lácteos</td>\n",
              "      <td>Protéica</td>\n",
              "    </tr>\n",
              "    <tr>\n",
              "      <th>3</th>\n",
              "      <td>190</td>\n",
              "      <td>Carmen</td>\n",
              "      <td>F</td>\n",
              "      <td>46</td>\n",
              "      <td>1.59</td>\n",
              "      <td>62.5</td>\n",
              "      <td>24.7</td>\n",
              "      <td>0.46</td>\n",
              "      <td>83.0</td>\n",
              "      <td>Resistencia</td>\n",
              "      <td>Frutas</td>\n",
              "      <td>Bajas en carbohidratos</td>\n",
              "    </tr>\n",
              "    <tr>\n",
              "      <th>4</th>\n",
              "      <td>226</td>\n",
              "      <td>Romina</td>\n",
              "      <td>F</td>\n",
              "      <td>26</td>\n",
              "      <td>1.70</td>\n",
              "      <td>67.4</td>\n",
              "      <td>23.3</td>\n",
              "      <td>0.42</td>\n",
              "      <td>79.0</td>\n",
              "      <td>Resistencia</td>\n",
              "      <td>Frutas</td>\n",
              "      <td>Bajas en calorías</td>\n",
              "    </tr>\n",
              "  </tbody>\n",
              "</table>\n",
              "</div>\n",
              "      <button class=\"colab-df-convert\" onclick=\"convertToInteractive('df-85fea5f4-d667-4673-868a-c6cfabd973ed')\"\n",
              "              title=\"Convert this dataframe to an interactive table.\"\n",
              "              style=\"display:none;\">\n",
              "        \n",
              "  <svg xmlns=\"http://www.w3.org/2000/svg\" height=\"24px\"viewBox=\"0 0 24 24\"\n",
              "       width=\"24px\">\n",
              "    <path d=\"M0 0h24v24H0V0z\" fill=\"none\"/>\n",
              "    <path d=\"M18.56 5.44l.94 2.06.94-2.06 2.06-.94-2.06-.94-.94-2.06-.94 2.06-2.06.94zm-11 1L8.5 8.5l.94-2.06 2.06-.94-2.06-.94L8.5 2.5l-.94 2.06-2.06.94zm10 10l.94 2.06.94-2.06 2.06-.94-2.06-.94-.94-2.06-.94 2.06-2.06.94z\"/><path d=\"M17.41 7.96l-1.37-1.37c-.4-.4-.92-.59-1.43-.59-.52 0-1.04.2-1.43.59L10.3 9.45l-7.72 7.72c-.78.78-.78 2.05 0 2.83L4 21.41c.39.39.9.59 1.41.59.51 0 1.02-.2 1.41-.59l7.78-7.78 2.81-2.81c.8-.78.8-2.07 0-2.86zM5.41 20L4 18.59l7.72-7.72 1.47 1.35L5.41 20z\"/>\n",
              "  </svg>\n",
              "      </button>\n",
              "      \n",
              "  <style>\n",
              "    .colab-df-container {\n",
              "      display:flex;\n",
              "      flex-wrap:wrap;\n",
              "      gap: 12px;\n",
              "    }\n",
              "\n",
              "    .colab-df-convert {\n",
              "      background-color: #E8F0FE;\n",
              "      border: none;\n",
              "      border-radius: 50%;\n",
              "      cursor: pointer;\n",
              "      display: none;\n",
              "      fill: #1967D2;\n",
              "      height: 32px;\n",
              "      padding: 0 0 0 0;\n",
              "      width: 32px;\n",
              "    }\n",
              "\n",
              "    .colab-df-convert:hover {\n",
              "      background-color: #E2EBFA;\n",
              "      box-shadow: 0px 1px 2px rgba(60, 64, 67, 0.3), 0px 1px 3px 1px rgba(60, 64, 67, 0.15);\n",
              "      fill: #174EA6;\n",
              "    }\n",
              "\n",
              "    [theme=dark] .colab-df-convert {\n",
              "      background-color: #3B4455;\n",
              "      fill: #D2E3FC;\n",
              "    }\n",
              "\n",
              "    [theme=dark] .colab-df-convert:hover {\n",
              "      background-color: #434B5C;\n",
              "      box-shadow: 0px 1px 3px 1px rgba(0, 0, 0, 0.15);\n",
              "      filter: drop-shadow(0px 1px 2px rgba(0, 0, 0, 0.3));\n",
              "      fill: #FFFFFF;\n",
              "    }\n",
              "  </style>\n",
              "\n",
              "      <script>\n",
              "        const buttonEl =\n",
              "          document.querySelector('#df-85fea5f4-d667-4673-868a-c6cfabd973ed button.colab-df-convert');\n",
              "        buttonEl.style.display =\n",
              "          google.colab.kernel.accessAllowed ? 'block' : 'none';\n",
              "\n",
              "        async function convertToInteractive(key) {\n",
              "          const element = document.querySelector('#df-85fea5f4-d667-4673-868a-c6cfabd973ed');\n",
              "          const dataTable =\n",
              "            await google.colab.kernel.invokeFunction('convertToInteractive',\n",
              "                                                     [key], {});\n",
              "          if (!dataTable) return;\n",
              "\n",
              "          const docLinkHtml = 'Like what you see? Visit the ' +\n",
              "            '<a target=\"_blank\" href=https://colab.research.google.com/notebooks/data_table.ipynb>data table notebook</a>'\n",
              "            + ' to learn more about interactive tables.';\n",
              "          element.innerHTML = '';\n",
              "          dataTable['output_type'] = 'display_data';\n",
              "          await google.colab.output.renderOutput(dataTable, element);\n",
              "          const docLink = document.createElement('div');\n",
              "          docLink.innerHTML = docLinkHtml;\n",
              "          element.appendChild(docLink);\n",
              "        }\n",
              "      </script>\n",
              "    </div>\n",
              "  </div>\n",
              "  "
            ],
            "text/plain": [
              "   usuario_id    Nombre Sexo  Edad  Talla (m)  Peso (kg)   IMC  P_grasa (%)  \\\n",
              "0          36    Nictza    F    41       1.70       64.2  22.2         0.39   \n",
              "1         137     Carla    F    50       1.70       88.1  30.5         0.32   \n",
              "2         141  Jhonatan    M    38       1.75       57.5  18.8         0.42   \n",
              "3         190    Carmen    F    46       1.59       62.5  24.7         0.46   \n",
              "4         226    Romina    F    26       1.70       67.4  23.3         0.42   \n",
              "\n",
              "   Cintura (cm)    Ejercicio        Patologia                   Dieta  \n",
              "0          81.5  Resistencia    Carnes grasas             Vegetariana  \n",
              "1         103.7     Aeróbico           Frutas             Vegetariana  \n",
              "2          84.5     Aeróbico  Leche y lácteos                Protéica  \n",
              "3          83.0  Resistencia           Frutas  Bajas en carbohidratos  \n",
              "4          79.0  Resistencia           Frutas       Bajas en calorías  "
            ]
          },
          "execution_count": 38,
          "metadata": {},
          "output_type": "execute_result"
        }
      ],
      "source": [
        "#Cargar Dataset\n",
        "df = pd.read_csv('DB_FINAL_ULTIMO_CON_DIETA.csv')\n",
        "\n",
        "df.head(5)"
      ]
    },
    {
      "cell_type": "code",
      "execution_count": 39,
      "metadata": {
        "colab": {
          "base_uri": "https://localhost:8080/"
        },
        "id": "OFWHMkqIRrPd",
        "outputId": "d47267d4-fd7b-46b9-8df6-ce21b2352cae"
      },
      "outputs": [
        {
          "data": {
            "text/plain": [
              "usuario_id      0\n",
              "Nombre          0\n",
              "Sexo            0\n",
              "Edad            0\n",
              "Talla (m)       0\n",
              "Peso (kg)       0\n",
              "IMC             0\n",
              "P_grasa (%)     0\n",
              "Cintura (cm)    0\n",
              "Ejercicio       0\n",
              "Patologia       0\n",
              "Dieta           0\n",
              "dtype: int64"
            ]
          },
          "execution_count": 39,
          "metadata": {},
          "output_type": "execute_result"
        }
      ],
      "source": [
        "#Verificar si hay nulos y/ o datos faltantes\n",
        "df.isnull().sum(axis=0)"
      ]
    },
    {
      "cell_type": "code",
      "execution_count": 40,
      "metadata": {
        "colab": {
          "base_uri": "https://localhost:8080/"
        },
        "id": "rKtaxvl9WLEM",
        "outputId": "98cf849a-f940-476b-dd1c-e8e1c2492e35"
      },
      "outputs": [
        {
          "data": {
            "text/plain": [
              "usuario_id        int64\n",
              "Nombre           object\n",
              "Sexo             object\n",
              "Edad              int64\n",
              "Talla (m)       float64\n",
              "Peso (kg)       float64\n",
              "IMC             float64\n",
              "P_grasa (%)     float64\n",
              "Cintura (cm)    float64\n",
              "Ejercicio        object\n",
              "Patologia        object\n",
              "Dieta            object\n",
              "dtype: object"
            ]
          },
          "execution_count": 40,
          "metadata": {},
          "output_type": "execute_result"
        }
      ],
      "source": [
        "df.dtypes"
      ]
    },
    {
      "cell_type": "code",
      "execution_count": 41,
      "metadata": {
        "colab": {
          "base_uri": "https://localhost:8080/",
          "height": 206
        },
        "id": "JM3FUPO1WtMp",
        "outputId": "14193664-de4b-4570-dfcb-2d2b3d1285c3"
      },
      "outputs": [
        {
          "data": {
            "text/html": [
              "\n",
              "  <div id=\"df-ad30c4e5-5858-4558-a4e7-568219c2b77a\">\n",
              "    <div class=\"colab-df-container\">\n",
              "      <div>\n",
              "<style scoped>\n",
              "    .dataframe tbody tr th:only-of-type {\n",
              "        vertical-align: middle;\n",
              "    }\n",
              "\n",
              "    .dataframe tbody tr th {\n",
              "        vertical-align: top;\n",
              "    }\n",
              "\n",
              "    .dataframe thead th {\n",
              "        text-align: right;\n",
              "    }\n",
              "</style>\n",
              "<table border=\"1\" class=\"dataframe\">\n",
              "  <thead>\n",
              "    <tr style=\"text-align: right;\">\n",
              "      <th></th>\n",
              "      <th>Sexo</th>\n",
              "      <th>Edad</th>\n",
              "      <th>Talla (m)</th>\n",
              "      <th>Peso (kg)</th>\n",
              "      <th>IMC</th>\n",
              "      <th>P_grasa (%)</th>\n",
              "      <th>Cintura (cm)</th>\n",
              "      <th>Ejercicio</th>\n",
              "      <th>Patologia</th>\n",
              "      <th>Dieta</th>\n",
              "    </tr>\n",
              "  </thead>\n",
              "  <tbody>\n",
              "    <tr>\n",
              "      <th>0</th>\n",
              "      <td>F</td>\n",
              "      <td>41</td>\n",
              "      <td>1.70</td>\n",
              "      <td>64.2</td>\n",
              "      <td>22.2</td>\n",
              "      <td>0.39</td>\n",
              "      <td>81.5</td>\n",
              "      <td>Resistencia</td>\n",
              "      <td>Carnes grasas</td>\n",
              "      <td>Vegetariana</td>\n",
              "    </tr>\n",
              "    <tr>\n",
              "      <th>1</th>\n",
              "      <td>F</td>\n",
              "      <td>50</td>\n",
              "      <td>1.70</td>\n",
              "      <td>88.1</td>\n",
              "      <td>30.5</td>\n",
              "      <td>0.32</td>\n",
              "      <td>103.7</td>\n",
              "      <td>Aeróbico</td>\n",
              "      <td>Frutas</td>\n",
              "      <td>Vegetariana</td>\n",
              "    </tr>\n",
              "    <tr>\n",
              "      <th>2</th>\n",
              "      <td>M</td>\n",
              "      <td>38</td>\n",
              "      <td>1.75</td>\n",
              "      <td>57.5</td>\n",
              "      <td>18.8</td>\n",
              "      <td>0.42</td>\n",
              "      <td>84.5</td>\n",
              "      <td>Aeróbico</td>\n",
              "      <td>Leche y lácteos</td>\n",
              "      <td>Protéica</td>\n",
              "    </tr>\n",
              "    <tr>\n",
              "      <th>3</th>\n",
              "      <td>F</td>\n",
              "      <td>46</td>\n",
              "      <td>1.59</td>\n",
              "      <td>62.5</td>\n",
              "      <td>24.7</td>\n",
              "      <td>0.46</td>\n",
              "      <td>83.0</td>\n",
              "      <td>Resistencia</td>\n",
              "      <td>Frutas</td>\n",
              "      <td>Bajas en carbohidratos</td>\n",
              "    </tr>\n",
              "    <tr>\n",
              "      <th>4</th>\n",
              "      <td>F</td>\n",
              "      <td>26</td>\n",
              "      <td>1.70</td>\n",
              "      <td>67.4</td>\n",
              "      <td>23.3</td>\n",
              "      <td>0.42</td>\n",
              "      <td>79.0</td>\n",
              "      <td>Resistencia</td>\n",
              "      <td>Frutas</td>\n",
              "      <td>Bajas en calorías</td>\n",
              "    </tr>\n",
              "  </tbody>\n",
              "</table>\n",
              "</div>\n",
              "      <button class=\"colab-df-convert\" onclick=\"convertToInteractive('df-ad30c4e5-5858-4558-a4e7-568219c2b77a')\"\n",
              "              title=\"Convert this dataframe to an interactive table.\"\n",
              "              style=\"display:none;\">\n",
              "        \n",
              "  <svg xmlns=\"http://www.w3.org/2000/svg\" height=\"24px\"viewBox=\"0 0 24 24\"\n",
              "       width=\"24px\">\n",
              "    <path d=\"M0 0h24v24H0V0z\" fill=\"none\"/>\n",
              "    <path d=\"M18.56 5.44l.94 2.06.94-2.06 2.06-.94-2.06-.94-.94-2.06-.94 2.06-2.06.94zm-11 1L8.5 8.5l.94-2.06 2.06-.94-2.06-.94L8.5 2.5l-.94 2.06-2.06.94zm10 10l.94 2.06.94-2.06 2.06-.94-2.06-.94-.94-2.06-.94 2.06-2.06.94z\"/><path d=\"M17.41 7.96l-1.37-1.37c-.4-.4-.92-.59-1.43-.59-.52 0-1.04.2-1.43.59L10.3 9.45l-7.72 7.72c-.78.78-.78 2.05 0 2.83L4 21.41c.39.39.9.59 1.41.59.51 0 1.02-.2 1.41-.59l7.78-7.78 2.81-2.81c.8-.78.8-2.07 0-2.86zM5.41 20L4 18.59l7.72-7.72 1.47 1.35L5.41 20z\"/>\n",
              "  </svg>\n",
              "      </button>\n",
              "      \n",
              "  <style>\n",
              "    .colab-df-container {\n",
              "      display:flex;\n",
              "      flex-wrap:wrap;\n",
              "      gap: 12px;\n",
              "    }\n",
              "\n",
              "    .colab-df-convert {\n",
              "      background-color: #E8F0FE;\n",
              "      border: none;\n",
              "      border-radius: 50%;\n",
              "      cursor: pointer;\n",
              "      display: none;\n",
              "      fill: #1967D2;\n",
              "      height: 32px;\n",
              "      padding: 0 0 0 0;\n",
              "      width: 32px;\n",
              "    }\n",
              "\n",
              "    .colab-df-convert:hover {\n",
              "      background-color: #E2EBFA;\n",
              "      box-shadow: 0px 1px 2px rgba(60, 64, 67, 0.3), 0px 1px 3px 1px rgba(60, 64, 67, 0.15);\n",
              "      fill: #174EA6;\n",
              "    }\n",
              "\n",
              "    [theme=dark] .colab-df-convert {\n",
              "      background-color: #3B4455;\n",
              "      fill: #D2E3FC;\n",
              "    }\n",
              "\n",
              "    [theme=dark] .colab-df-convert:hover {\n",
              "      background-color: #434B5C;\n",
              "      box-shadow: 0px 1px 3px 1px rgba(0, 0, 0, 0.15);\n",
              "      filter: drop-shadow(0px 1px 2px rgba(0, 0, 0, 0.3));\n",
              "      fill: #FFFFFF;\n",
              "    }\n",
              "  </style>\n",
              "\n",
              "      <script>\n",
              "        const buttonEl =\n",
              "          document.querySelector('#df-ad30c4e5-5858-4558-a4e7-568219c2b77a button.colab-df-convert');\n",
              "        buttonEl.style.display =\n",
              "          google.colab.kernel.accessAllowed ? 'block' : 'none';\n",
              "\n",
              "        async function convertToInteractive(key) {\n",
              "          const element = document.querySelector('#df-ad30c4e5-5858-4558-a4e7-568219c2b77a');\n",
              "          const dataTable =\n",
              "            await google.colab.kernel.invokeFunction('convertToInteractive',\n",
              "                                                     [key], {});\n",
              "          if (!dataTable) return;\n",
              "\n",
              "          const docLinkHtml = 'Like what you see? Visit the ' +\n",
              "            '<a target=\"_blank\" href=https://colab.research.google.com/notebooks/data_table.ipynb>data table notebook</a>'\n",
              "            + ' to learn more about interactive tables.';\n",
              "          element.innerHTML = '';\n",
              "          dataTable['output_type'] = 'display_data';\n",
              "          await google.colab.output.renderOutput(dataTable, element);\n",
              "          const docLink = document.createElement('div');\n",
              "          docLink.innerHTML = docLinkHtml;\n",
              "          element.appendChild(docLink);\n",
              "        }\n",
              "      </script>\n",
              "    </div>\n",
              "  </div>\n",
              "  "
            ],
            "text/plain": [
              "  Sexo  Edad  Talla (m)  Peso (kg)   IMC  P_grasa (%)  Cintura (cm)  \\\n",
              "0    F    41       1.70       64.2  22.2         0.39          81.5   \n",
              "1    F    50       1.70       88.1  30.5         0.32         103.7   \n",
              "2    M    38       1.75       57.5  18.8         0.42          84.5   \n",
              "3    F    46       1.59       62.5  24.7         0.46          83.0   \n",
              "4    F    26       1.70       67.4  23.3         0.42          79.0   \n",
              "\n",
              "     Ejercicio        Patologia                   Dieta  \n",
              "0  Resistencia    Carnes grasas             Vegetariana  \n",
              "1     Aeróbico           Frutas             Vegetariana  \n",
              "2     Aeróbico  Leche y lácteos                Protéica  \n",
              "3  Resistencia           Frutas  Bajas en carbohidratos  \n",
              "4  Resistencia           Frutas       Bajas en calorías  "
            ]
          },
          "execution_count": 41,
          "metadata": {},
          "output_type": "execute_result"
        }
      ],
      "source": [
        "# Eliminamos las columna de ids y nombres\n",
        "df = df.iloc[:,2:]\n",
        "df.head(5)"
      ]
    },
    {
      "cell_type": "code",
      "execution_count": 42,
      "metadata": {
        "colab": {
          "base_uri": "https://localhost:8080/",
          "height": 424
        },
        "id": "H-l5Zj-ZTOxX",
        "outputId": "37df8f44-0de7-4639-89d2-e35110491aa1"
      },
      "outputs": [
        {
          "data": {
            "text/html": [
              "\n",
              "  <div id=\"df-985e3b6f-3de2-4b0f-be5b-fcd9ca335b5d\">\n",
              "    <div class=\"colab-df-container\">\n",
              "      <div>\n",
              "<style scoped>\n",
              "    .dataframe tbody tr th:only-of-type {\n",
              "        vertical-align: middle;\n",
              "    }\n",
              "\n",
              "    .dataframe tbody tr th {\n",
              "        vertical-align: top;\n",
              "    }\n",
              "\n",
              "    .dataframe thead th {\n",
              "        text-align: right;\n",
              "    }\n",
              "</style>\n",
              "<table border=\"1\" class=\"dataframe\">\n",
              "  <thead>\n",
              "    <tr style=\"text-align: right;\">\n",
              "      <th></th>\n",
              "      <th>Sexo</th>\n",
              "      <th>Edad</th>\n",
              "      <th>Talla (m)</th>\n",
              "      <th>Peso (kg)</th>\n",
              "      <th>IMC</th>\n",
              "      <th>P_grasa (%)</th>\n",
              "      <th>Cintura (cm)</th>\n",
              "      <th>Ejercicio</th>\n",
              "      <th>Patologia</th>\n",
              "      <th>Dieta</th>\n",
              "    </tr>\n",
              "  </thead>\n",
              "  <tbody>\n",
              "    <tr>\n",
              "      <th>0</th>\n",
              "      <td>0</td>\n",
              "      <td>3</td>\n",
              "      <td>1</td>\n",
              "      <td>2</td>\n",
              "      <td>1</td>\n",
              "      <td>4</td>\n",
              "      <td>4</td>\n",
              "      <td>1</td>\n",
              "      <td>1</td>\n",
              "      <td>3</td>\n",
              "    </tr>\n",
              "    <tr>\n",
              "      <th>1</th>\n",
              "      <td>0</td>\n",
              "      <td>3</td>\n",
              "      <td>1</td>\n",
              "      <td>4</td>\n",
              "      <td>3</td>\n",
              "      <td>4</td>\n",
              "      <td>4</td>\n",
              "      <td>0</td>\n",
              "      <td>3</td>\n",
              "      <td>3</td>\n",
              "    </tr>\n",
              "    <tr>\n",
              "      <th>2</th>\n",
              "      <td>1</td>\n",
              "      <td>3</td>\n",
              "      <td>1</td>\n",
              "      <td>2</td>\n",
              "      <td>1</td>\n",
              "      <td>0</td>\n",
              "      <td>4</td>\n",
              "      <td>0</td>\n",
              "      <td>0</td>\n",
              "      <td>4</td>\n",
              "    </tr>\n",
              "    <tr>\n",
              "      <th>3</th>\n",
              "      <td>0</td>\n",
              "      <td>3</td>\n",
              "      <td>0</td>\n",
              "      <td>2</td>\n",
              "      <td>1</td>\n",
              "      <td>4</td>\n",
              "      <td>4</td>\n",
              "      <td>1</td>\n",
              "      <td>3</td>\n",
              "      <td>0</td>\n",
              "    </tr>\n",
              "    <tr>\n",
              "      <th>4</th>\n",
              "      <td>0</td>\n",
              "      <td>3</td>\n",
              "      <td>1</td>\n",
              "      <td>2</td>\n",
              "      <td>1</td>\n",
              "      <td>4</td>\n",
              "      <td>4</td>\n",
              "      <td>1</td>\n",
              "      <td>3</td>\n",
              "      <td>2</td>\n",
              "    </tr>\n",
              "    <tr>\n",
              "      <th>...</th>\n",
              "      <td>...</td>\n",
              "      <td>...</td>\n",
              "      <td>...</td>\n",
              "      <td>...</td>\n",
              "      <td>...</td>\n",
              "      <td>...</td>\n",
              "      <td>...</td>\n",
              "      <td>...</td>\n",
              "      <td>...</td>\n",
              "      <td>...</td>\n",
              "    </tr>\n",
              "    <tr>\n",
              "      <th>283</th>\n",
              "      <td>0</td>\n",
              "      <td>3</td>\n",
              "      <td>1</td>\n",
              "      <td>3</td>\n",
              "      <td>2</td>\n",
              "      <td>4</td>\n",
              "      <td>4</td>\n",
              "      <td>0</td>\n",
              "      <td>6</td>\n",
              "      <td>4</td>\n",
              "    </tr>\n",
              "    <tr>\n",
              "      <th>284</th>\n",
              "      <td>1</td>\n",
              "      <td>3</td>\n",
              "      <td>1</td>\n",
              "      <td>2</td>\n",
              "      <td>1</td>\n",
              "      <td>0</td>\n",
              "      <td>4</td>\n",
              "      <td>0</td>\n",
              "      <td>6</td>\n",
              "      <td>0</td>\n",
              "    </tr>\n",
              "    <tr>\n",
              "      <th>285</th>\n",
              "      <td>0</td>\n",
              "      <td>3</td>\n",
              "      <td>0</td>\n",
              "      <td>3</td>\n",
              "      <td>3</td>\n",
              "      <td>4</td>\n",
              "      <td>4</td>\n",
              "      <td>0</td>\n",
              "      <td>6</td>\n",
              "      <td>2</td>\n",
              "    </tr>\n",
              "    <tr>\n",
              "      <th>286</th>\n",
              "      <td>0</td>\n",
              "      <td>3</td>\n",
              "      <td>1</td>\n",
              "      <td>4</td>\n",
              "      <td>2</td>\n",
              "      <td>4</td>\n",
              "      <td>4</td>\n",
              "      <td>0</td>\n",
              "      <td>0</td>\n",
              "      <td>4</td>\n",
              "    </tr>\n",
              "    <tr>\n",
              "      <th>287</th>\n",
              "      <td>0</td>\n",
              "      <td>3</td>\n",
              "      <td>1</td>\n",
              "      <td>3</td>\n",
              "      <td>2</td>\n",
              "      <td>4</td>\n",
              "      <td>4</td>\n",
              "      <td>0</td>\n",
              "      <td>6</td>\n",
              "      <td>2</td>\n",
              "    </tr>\n",
              "  </tbody>\n",
              "</table>\n",
              "<p>288 rows × 10 columns</p>\n",
              "</div>\n",
              "      <button class=\"colab-df-convert\" onclick=\"convertToInteractive('df-985e3b6f-3de2-4b0f-be5b-fcd9ca335b5d')\"\n",
              "              title=\"Convert this dataframe to an interactive table.\"\n",
              "              style=\"display:none;\">\n",
              "        \n",
              "  <svg xmlns=\"http://www.w3.org/2000/svg\" height=\"24px\"viewBox=\"0 0 24 24\"\n",
              "       width=\"24px\">\n",
              "    <path d=\"M0 0h24v24H0V0z\" fill=\"none\"/>\n",
              "    <path d=\"M18.56 5.44l.94 2.06.94-2.06 2.06-.94-2.06-.94-.94-2.06-.94 2.06-2.06.94zm-11 1L8.5 8.5l.94-2.06 2.06-.94-2.06-.94L8.5 2.5l-.94 2.06-2.06.94zm10 10l.94 2.06.94-2.06 2.06-.94-2.06-.94-.94-2.06-.94 2.06-2.06.94z\"/><path d=\"M17.41 7.96l-1.37-1.37c-.4-.4-.92-.59-1.43-.59-.52 0-1.04.2-1.43.59L10.3 9.45l-7.72 7.72c-.78.78-.78 2.05 0 2.83L4 21.41c.39.39.9.59 1.41.59.51 0 1.02-.2 1.41-.59l7.78-7.78 2.81-2.81c.8-.78.8-2.07 0-2.86zM5.41 20L4 18.59l7.72-7.72 1.47 1.35L5.41 20z\"/>\n",
              "  </svg>\n",
              "      </button>\n",
              "      \n",
              "  <style>\n",
              "    .colab-df-container {\n",
              "      display:flex;\n",
              "      flex-wrap:wrap;\n",
              "      gap: 12px;\n",
              "    }\n",
              "\n",
              "    .colab-df-convert {\n",
              "      background-color: #E8F0FE;\n",
              "      border: none;\n",
              "      border-radius: 50%;\n",
              "      cursor: pointer;\n",
              "      display: none;\n",
              "      fill: #1967D2;\n",
              "      height: 32px;\n",
              "      padding: 0 0 0 0;\n",
              "      width: 32px;\n",
              "    }\n",
              "\n",
              "    .colab-df-convert:hover {\n",
              "      background-color: #E2EBFA;\n",
              "      box-shadow: 0px 1px 2px rgba(60, 64, 67, 0.3), 0px 1px 3px 1px rgba(60, 64, 67, 0.15);\n",
              "      fill: #174EA6;\n",
              "    }\n",
              "\n",
              "    [theme=dark] .colab-df-convert {\n",
              "      background-color: #3B4455;\n",
              "      fill: #D2E3FC;\n",
              "    }\n",
              "\n",
              "    [theme=dark] .colab-df-convert:hover {\n",
              "      background-color: #434B5C;\n",
              "      box-shadow: 0px 1px 3px 1px rgba(0, 0, 0, 0.15);\n",
              "      filter: drop-shadow(0px 1px 2px rgba(0, 0, 0, 0.3));\n",
              "      fill: #FFFFFF;\n",
              "    }\n",
              "  </style>\n",
              "\n",
              "      <script>\n",
              "        const buttonEl =\n",
              "          document.querySelector('#df-985e3b6f-3de2-4b0f-be5b-fcd9ca335b5d button.colab-df-convert');\n",
              "        buttonEl.style.display =\n",
              "          google.colab.kernel.accessAllowed ? 'block' : 'none';\n",
              "\n",
              "        async function convertToInteractive(key) {\n",
              "          const element = document.querySelector('#df-985e3b6f-3de2-4b0f-be5b-fcd9ca335b5d');\n",
              "          const dataTable =\n",
              "            await google.colab.kernel.invokeFunction('convertToInteractive',\n",
              "                                                     [key], {});\n",
              "          if (!dataTable) return;\n",
              "\n",
              "          const docLinkHtml = 'Like what you see? Visit the ' +\n",
              "            '<a target=\"_blank\" href=https://colab.research.google.com/notebooks/data_table.ipynb>data table notebook</a>'\n",
              "            + ' to learn more about interactive tables.';\n",
              "          element.innerHTML = '';\n",
              "          dataTable['output_type'] = 'display_data';\n",
              "          await google.colab.output.renderOutput(dataTable, element);\n",
              "          const docLink = document.createElement('div');\n",
              "          docLink.innerHTML = docLinkHtml;\n",
              "          element.appendChild(docLink);\n",
              "        }\n",
              "      </script>\n",
              "    </div>\n",
              "  </div>\n",
              "  "
            ],
            "text/plain": [
              "     Sexo  Edad  Talla (m)  Peso (kg)  IMC  P_grasa (%)  Cintura (cm)  \\\n",
              "0       0     3          1          2    1            4             4   \n",
              "1       0     3          1          4    3            4             4   \n",
              "2       1     3          1          2    1            0             4   \n",
              "3       0     3          0          2    1            4             4   \n",
              "4       0     3          1          2    1            4             4   \n",
              "..    ...   ...        ...        ...  ...          ...           ...   \n",
              "283     0     3          1          3    2            4             4   \n",
              "284     1     3          1          2    1            0             4   \n",
              "285     0     3          0          3    3            4             4   \n",
              "286     0     3          1          4    2            4             4   \n",
              "287     0     3          1          3    2            4             4   \n",
              "\n",
              "     Ejercicio  Patologia  Dieta  \n",
              "0            1          1      3  \n",
              "1            0          3      3  \n",
              "2            0          0      4  \n",
              "3            1          3      0  \n",
              "4            1          3      2  \n",
              "..         ...        ...    ...  \n",
              "283          0          6      4  \n",
              "284          0          6      0  \n",
              "285          0          6      2  \n",
              "286          0          0      4  \n",
              "287          0          6      2  \n",
              "\n",
              "[288 rows x 10 columns]"
            ]
          },
          "execution_count": 42,
          "metadata": {},
          "output_type": "execute_result"
        }
      ],
      "source": [
        "# Convertir columnas numericas y/o a categoricas numericas\n",
        "\n",
        "def chooseGender(gender):\n",
        "    if (gender == 'F'):\n",
        "        return 0\n",
        "    else:\n",
        "        return 1\n",
        "\n",
        "def chooseAge(age):\n",
        "    if (age >= 0 and age < 12):\n",
        "        return 0\n",
        "    elif (age >= 12 and age < 18):\n",
        "        return 1\n",
        "    elif (age >= 18 and age < 26):\n",
        "        return 2\n",
        "    elif (age >= 26 and age < 60):\n",
        "        return 3\n",
        "    elif (age >=60):\n",
        "        return 4\n",
        "\n",
        "def chooseStature(stature):\n",
        "    if (stature >= 1.40 and stature <= 1.60):\n",
        "        return 0\n",
        "    elif (stature >= 1.61 and stature <= 1.80):\n",
        "        return 1\n",
        "    elif (stature >= 1.81 and stature <= 2.0):\n",
        "        return 2\n",
        "    elif (stature >= 2.1):\n",
        "        return 3\n",
        "\n",
        "def chooseWeight(weight):\n",
        "    if (weight >= 0 and weight < 40):\n",
        "        return 0\n",
        "    elif (weight >= 40 and weight < 55):\n",
        "        return 1\n",
        "    elif (weight >= 55 and weight < 70):\n",
        "        return 2\n",
        "    elif (weight >= 70 and weight < 85):\n",
        "        return 3\n",
        "    elif (weight >= 85 and weight < 100):\n",
        "        return 4\n",
        "    elif (weight >= 100):\n",
        "        return 5\n",
        "\n",
        "def chooseIMC(imc):\n",
        "    if (imc >= 0 and imc <= 18.5):\n",
        "        return 0\n",
        "    elif (imc >= 18.6 and imc <= 24.9):\n",
        "        return 1\n",
        "    elif (imc >= 25.0 and imc <= 29.9):\n",
        "        return 2\n",
        "    elif (imc >= 30.0 and imc <= 34.9):\n",
        "        return 3\n",
        "    elif (imc >= 35.0 and imc <= 39.9):\n",
        "        return 4\n",
        "    elif (imc >= 40.0):\n",
        "        return 5\n",
        "\n",
        "def choosePercentFat(percent_fat, gender):\n",
        "    if(gender == 1):\n",
        "        if (percent_fat >= 0.2 and percent_fat < 0.6):\n",
        "            return 0\n",
        "        elif (percent_fat >= 0.6 and percent_fat < 0.14):\n",
        "            return 1\n",
        "        elif (percent_fat >= 0.14 and percent_fat < 0.18):\n",
        "            return 2\n",
        "        elif (percent_fat >= 0.18 and percent_fat < 0.25):\n",
        "            return 3\n",
        "        elif (percent_fat >= 0.25):\n",
        "            return 4\n",
        "    else:\n",
        "        if (percent_fat >= 0.10 and percent_fat < 0.14):\n",
        "            return 0\n",
        "        elif (percent_fat >= 0.14 and percent_fat < 0.21):\n",
        "            return 1\n",
        "        elif (percent_fat >= 0.21 and percent_fat < 0.25):\n",
        "            return 2\n",
        "        elif (percent_fat >= 0.25 and percent_fat < 0.32):\n",
        "            return 3\n",
        "        elif (percent_fat >= 0.32):\n",
        "            return 4\n",
        "\n",
        "def chooseWaistMeasurement(waist_measurement):\n",
        "    if (waist_measurement >= 0 and waist_measurement <= 0.70):\n",
        "        return 0\n",
        "    elif (waist_measurement >= 0.71 and waist_measurement <= 0.8):\n",
        "        return 1\n",
        "    elif (waist_measurement >= 0.81 and waist_measurement <= 0.9):\n",
        "        return 2\n",
        "    elif (waist_measurement >= 0.91 and waist_measurement <= 1.0):\n",
        "        return 3\n",
        "    elif (waist_measurement > 1.1):\n",
        "        return 4\n",
        "\n",
        "def chooseExercise(exercise):\n",
        "    if (exercise == 'Aeróbico'):\n",
        "        return 0\n",
        "    elif (exercise == 'Resistencia'):\n",
        "        return 1\n",
        "    elif (exercise == 'Flexibilidad'):\n",
        "        return 2\n",
        "\n",
        "def choosePathology(pathology):\n",
        "    if (pathology == 'Leche y lácteos'):\n",
        "        return 0\n",
        "    elif (pathology == 'Carnes grasas'):\n",
        "        return 1\n",
        "    elif (pathology == 'Cereales'):\n",
        "        return 2\n",
        "    elif (pathology == 'Frutas'):\n",
        "        return 3\n",
        "    elif (pathology == 'Bebidas azucaradas'):\n",
        "        return 4\n",
        "    elif (pathology == 'Grasas'):\n",
        "        return 5\n",
        "    else:\n",
        "        return 6\n",
        "\n",
        "def chooseDiet(diet):\n",
        "    if (diet == 'Bajas en carbohidratos'):\n",
        "        return 0\n",
        "    elif (diet == 'Bajas en grasas'):\n",
        "        return 1\n",
        "    elif (diet == 'Bajas en calorías'):\n",
        "        return 2\n",
        "    elif (diet == 'Vegetariana'):\n",
        "        return 3\n",
        "    elif (diet == 'Protéica'):\n",
        "        return 4\n",
        "\n",
        "\n",
        "df['Sexo'] = df['Sexo'].map(lambda x : chooseGender(x))\n",
        "df['Edad'] =  df['Edad'].map(lambda x : chooseAge(x))\n",
        "df['Talla (m)'] =  df['Talla (m)'].map(lambda x : chooseStature(x))\n",
        "df['Peso (kg)'] =  df['Peso (kg)'].map(lambda x : chooseWeight(x))\n",
        "df['IMC'] =  df['IMC'].map(lambda x : chooseIMC(x))\n",
        "df['P_grasa (%)'] =  df.apply(lambda x : choosePercentFat(x['P_grasa (%)'], x['Sexo']), axis=1)\n",
        "df['Cintura (cm)'] =  df['Cintura (cm)'].map(lambda x : chooseWaistMeasurement(x))\n",
        "df['Ejercicio'] =  df['Ejercicio'].map(lambda x : chooseExercise(x))\n",
        "df['Patologia'] =  df['Patologia'].map(lambda x : choosePathology(x))\n",
        "df['Dieta'] =  df['Dieta'].map(lambda x : chooseDiet(x))\n",
        "df"
      ]
    },
    {
      "cell_type": "code",
      "execution_count": 43,
      "metadata": {
        "colab": {
          "base_uri": "https://localhost:8080/"
        },
        "id": "F8vgwoFbsLnY",
        "outputId": "6e743532-97ba-40e9-92e4-0f37947e2039"
      },
      "outputs": [
        {
          "data": {
            "text/plain": [
              "Sexo            0\n",
              "Edad            0\n",
              "Talla (m)       0\n",
              "Peso (kg)       0\n",
              "IMC             0\n",
              "P_grasa (%)     0\n",
              "Cintura (cm)    0\n",
              "Ejercicio       0\n",
              "Patologia       0\n",
              "Dieta           0\n",
              "dtype: int64"
            ]
          },
          "execution_count": 43,
          "metadata": {},
          "output_type": "execute_result"
        }
      ],
      "source": [
        "df.isnull().sum(axis=0)"
      ]
    },
    {
      "attachments": {},
      "cell_type": "markdown",
      "metadata": {
        "id": "CfW-7DdSU2HQ"
      },
      "source": [
        "#### **(2) Crear y Visualizar el DAG y los CPDs**"
      ]
    },
    {
      "cell_type": "code",
      "execution_count": 44,
      "metadata": {
        "colab": {
          "base_uri": "https://localhost:8080/",
          "height": 548,
          "referenced_widgets": [
            "f3349555af7c48ca805532c01cbfdcfb",
            "57774b4606db468a8a7cca8de787c073",
            "76aba808b28d4cfdabb465e7840a7b93",
            "7f032a19a1e945099e4a149214fd4bd1",
            "622302f76c8043ae9c7c6030b0386811",
            "cf91f29473894aae97ca2014f5ab547e",
            "1b1f2e02b75843de9674da1818b57d35",
            "9646c4be9e7b4c12b644e05818dbd595",
            "47ae58e2b76e4d9195f29e5a6b4a14eb",
            "40624794db74479bb7894c0ba29b70b7",
            "2c382757987445008aa4c7edf88618c9"
          ]
        },
        "id": "QToI4dELj_di",
        "outputId": "0983b89c-c119-4326-9461-0d30318ba97d"
      },
      "outputs": [
        {
          "data": {
            "application/vnd.jupyter.widget-view+json": {
              "model_id": "f3349555af7c48ca805532c01cbfdcfb",
              "version_major": 2,
              "version_minor": 0
            },
            "text/plain": [
              "Building tree:   0%|          | 0/45.0 [00:00<?, ?it/s]"
            ]
          },
          "metadata": {},
          "output_type": "display_data"
        },
        {
          "data": {
            "image/png": "[encoded data removed]",
            "text/plain": [
              "<Figure size 640x480 with 1 Axes>"
            ]
          },
          "metadata": {},
          "output_type": "display_data"
        }
      ],
      "source": [
        "data = df.copy()\n",
        "est = TreeSearch(data, root_node='IMC')\n",
        "dag = est.estimate(estimator_type='chow-liu')\n",
        "pos = nx.spiral_layout(dag)\n",
        "nx.draw(dag, pos=pos, with_labels=True,node_color='b', font_size=7, arrowstyle='fancy', alpha=0.8)"
      ]
    },
    {
      "cell_type": "code",
      "execution_count": 45,
      "metadata": {
        "colab": {
          "base_uri": "https://localhost:8080/"
        },
        "id": "F6cXOLowleY5",
        "outputId": "59e57db1-f91e-481c-d120-40ee98e7f0b5"
      },
      "outputs": [
        {
          "data": {
            "text/plain": [
              "[<TabularCPD representing P(IMC:6) at 0x7f46d2cadf90>,\n",
              " <TabularCPD representing P(Peso (kg):5 | IMC:6) at 0x7f46d2cae680>,\n",
              " <TabularCPD representing P(P_grasa (%):5 | IMC:6) at 0x7f46d2cafa60>,\n",
              " <TabularCPD representing P(Ejercicio:3 | IMC:6) at 0x7f46d2cad150>,\n",
              " <TabularCPD representing P(Patologia:6 | Peso (kg):5) at 0x7f46d2caf190>,\n",
              " <TabularCPD representing P(Sexo:2 | P_grasa (%):5) at 0x7f46d2cae710>,\n",
              " <TabularCPD representing P(Talla (m):3 | P_grasa (%):5) at 0x7f46d2cacca0>,\n",
              " <TabularCPD representing P(Edad:5 | Patologia:6) at 0x7f46d2caefe0>,\n",
              " <TabularCPD representing P(Dieta:5 | Patologia:6) at 0x7f46d2caceb0>]"
            ]
          },
          "execution_count": 45,
          "metadata": {},
          "output_type": "execute_result"
        }
      ],
      "source": [
        "model = BayesianNetwork(dag)\n",
        "model.fit(data)\n",
        "model.get_cpds()"
      ]
    },
    {
      "attachments": {},
      "cell_type": "markdown",
      "metadata": {
        "id": "SPDz549aVNHg"
      },
      "source": [
        "#### **(3) Resolver Inferencias**\n",
        "\n",
        "Se hará uso de **Eliminacion de la Variable**, para la resolución de las inferencias."
      ]
    },
    {
      "attachments": {},
      "cell_type": "markdown",
      "metadata": {
        "id": "FndZDZgzZYui"
      },
      "source": [
        "- ¿Cuál es la distribución condicional del Riesgo dado que conocemos el género del cliente que solicita el crédito?"
      ]
    },
    {
      "cell_type": "code",
      "execution_count": 46,
      "metadata": {
        "colab": {
          "base_uri": "https://localhost:8080/"
        },
        "id": "yzmkGdNTaIXE",
        "outputId": "e5faf4cc-a8c4-4e90-e84c-7782739b7a1b"
      },
      "outputs": [
        {
          "data": {
            "text/plain": [
              "<pgmpy.inference.ExactInference.VariableElimination at 0x7f46d2cae590>"
            ]
          },
          "execution_count": 46,
          "metadata": {},
          "output_type": "execute_result"
        }
      ],
      "source": [
        "infer = VariableElimination(model)\n",
        "infer"
      ]
    },
    {
      "attachments": {},
      "cell_type": "markdown",
      "metadata": {
        "id": "rfJpy2wwX_d8"
      },
      "source": [
        "#### ¿Cuál es la probabilidad de que a una mujer adulto mayor se le recomiende hacer ejercicios de resistencia?"
      ]
    },
    {
      "cell_type": "code",
      "execution_count": 70,
      "metadata": {
        "colab": {
          "base_uri": "https://localhost:8080/"
        },
        "id": "iLizrj7ZXpqV",
        "outputId": "9306ec95-5591-4303-b8be-e5f97b144af1"
      },
      "outputs": [
        {
          "name": "stdout",
          "output_type": "stream",
          "text": [
            "+--------------+------------------+\n",
            "| Ejercicio    |   phi(Ejercicio) |\n",
            "+==============+==================+\n",
            "| Ejercicio(0) |           0.8999 |\n",
            "+--------------+------------------+\n",
            "| Ejercicio(1) |           0.0969 |\n",
            "+--------------+------------------+\n",
            "| Ejercicio(2) |           0.0032 |\n",
            "+--------------+------------------+\n"
          ]
        }
      ],
      "source": [
        "inference = infer.query(variables=['Ejercicio'], evidence={'Sexo': 0, 'Edad': 4 })\n",
        "print(inference)"
      ]
    },
    {
      "cell_type": "code",
      "execution_count": 71,
      "metadata": {
        "colab": {
          "base_uri": "https://localhost:8080/"
        },
        "id": "qEY3uDDhi5fT",
        "outputId": "b907e2c2-6f25-4d55-db9d-72d4ebfc0142"
      },
      "outputs": [
        {
          "name": "stdout",
          "output_type": "stream",
          "text": [
            "Respuesta: La probabilidad de que un adulto mayor haga ejercicios de resistencia es de 9.69 %\n"
          ]
        }
      ],
      "source": [
        "print(f'Respuesta: La probabilidad de que un adulto mayor haga ejercicios de resistencia es de { round(inference.values[1] * 100, 2) } %')"
      ]
    },
    {
      "attachments": {},
      "cell_type": "markdown",
      "metadata": {
        "id": "MXcTd62yYDdy"
      },
      "source": [
        "#### ¿Cuál es la probabilidad de tener un porcentaje de grasa alto(Obesidad), a pesar de tener una rutina de ejercicio aeróbico?"
      ]
    },
    {
      "cell_type": "code",
      "execution_count": 67,
      "metadata": {
        "colab": {
          "base_uri": "https://localhost:8080/"
        },
        "id": "YhcInKoYXwMK",
        "outputId": "fef9a475-7c00-4f02-b669-9fa9b2842743"
      },
      "outputs": [
        {
          "name": "stdout",
          "output_type": "stream",
          "text": [
            "+----------------+--------------------+\n",
            "| P_grasa (%)    |   phi(P_grasa (%)) |\n",
            "+================+====================+\n",
            "| P_grasa (%)(0) |             0.1808 |\n",
            "+----------------+--------------------+\n",
            "| P_grasa (%)(1) |             0.0205 |\n",
            "+----------------+--------------------+\n",
            "| P_grasa (%)(2) |             0.0177 |\n",
            "+----------------+--------------------+\n",
            "| P_grasa (%)(3) |             0.1046 |\n",
            "+----------------+--------------------+\n",
            "| P_grasa (%)(4) |             0.6764 |\n",
            "+----------------+--------------------+\n"
          ]
        }
      ],
      "source": [
        "inference = infer.query(variables=['P_grasa (%)'], evidence = {'Ejercicio': 0})\n",
        "print(inference)"
      ]
    },
    {
      "cell_type": "code",
      "execution_count": 69,
      "metadata": {
        "colab": {
          "base_uri": "https://localhost:8080/"
        },
        "id": "HgLmNaaFihs0",
        "outputId": "95e8d8f0-e369-4e86-d5a2-1f97c5d684b6"
      },
      "outputs": [
        {
          "name": "stdout",
          "output_type": "stream",
          "text": [
            "Respuesta: La probabilidad de que un adulto mayor haga ejercicios de resistencia es de 67.64 %\n"
          ]
        }
      ],
      "source": [
        "print(f'Respuesta: La probabilidad de que un adulto mayor haga ejercicios de resistencia es de { round(inference.values[4] * 100, 2) } %')"
      ]
    },
    {
      "attachments": {},
      "cell_type": "markdown",
      "metadata": {
        "id": "c_f36FL3YLkT"
      },
      "source": [
        "#### ¿Cuál es la probabilidad de tener obesidad tipo II (IMC) si llevo una dieta vegetariana?"
      ]
    },
    {
      "cell_type": "code",
      "execution_count": 61,
      "metadata": {
        "colab": {
          "base_uri": "https://localhost:8080/"
        },
        "id": "IVuz74WeX0xH",
        "outputId": "8f00a344-8754-4011-da4b-f3d26459adb6"
      },
      "outputs": [
        {
          "name": "stdout",
          "output_type": "stream",
          "text": [
            "+--------+------------+\n",
            "| IMC    |   phi(IMC) |\n",
            "+========+============+\n",
            "| IMC(0) |     0.0167 |\n",
            "+--------+------------+\n",
            "| IMC(1) |     0.3238 |\n",
            "+--------+------------+\n",
            "| IMC(2) |     0.2843 |\n",
            "+--------+------------+\n",
            "| IMC(3) |     0.2269 |\n",
            "+--------+------------+\n",
            "| IMC(4) |     0.0904 |\n",
            "+--------+------------+\n",
            "| IMC(5) |     0.0579 |\n",
            "+--------+------------+\n"
          ]
        }
      ],
      "source": [
        "inference = infer.query(variables=['IMC'], evidence = {'Dieta': 3})\n",
        "print(inference)"
      ]
    },
    {
      "cell_type": "code",
      "execution_count": 62,
      "metadata": {
        "colab": {
          "base_uri": "https://localhost:8080/"
        },
        "id": "GkkDVzBphRmb",
        "outputId": "61be4162-943e-4e34-e46e-1454a3213e37"
      },
      "outputs": [
        {
          "name": "stdout",
          "output_type": "stream",
          "text": [
            "Respuesta: La probabilidad de que un adulto mayor haga ejercicios de resistencia es de 9.04 %\n"
          ]
        }
      ],
      "source": [
        "print(f'Respuesta: La probabilidad de que un adulto mayor haga ejercicios de resistencia es de { round(inference.values[4] * 100, 2) } %')"
      ]
    },
    {
      "attachments": {},
      "cell_type": "markdown",
      "metadata": {
        "id": "nIc87XlFYO1E"
      },
      "source": [
        "#### ¿Cuál es la probabilidad de recomendarle una dieta vegetariana a una persona de sexo femenino con un imc de 32?"
      ]
    },
    {
      "cell_type": "code",
      "execution_count": 64,
      "metadata": {
        "colab": {
          "base_uri": "https://localhost:8080/"
        },
        "id": "XtxkUvO4X2xw",
        "outputId": "eebcbf8b-7fd9-4484-820f-6b077c07f377"
      },
      "outputs": [
        {
          "name": "stdout",
          "output_type": "stream",
          "text": [
            "+----------+--------------+\n",
            "| Dieta    |   phi(Dieta) |\n",
            "+==========+==============+\n",
            "| Dieta(0) |       0.1733 |\n",
            "+----------+--------------+\n",
            "| Dieta(1) |       0.2195 |\n",
            "+----------+--------------+\n",
            "| Dieta(2) |       0.2100 |\n",
            "+----------+--------------+\n",
            "| Dieta(3) |       0.2128 |\n",
            "+----------+--------------+\n",
            "| Dieta(4) |       0.1844 |\n",
            "+----------+--------------+\n"
          ]
        }
      ],
      "source": [
        "inference = infer.query(variables=['Dieta'], evidence = {'Sexo': 0, 'IMC': 3})\n",
        "print(inference)"
      ]
    },
    {
      "cell_type": "code",
      "execution_count": 66,
      "metadata": {
        "colab": {
          "base_uri": "https://localhost:8080/"
        },
        "id": "fz5ZofC6h_Dl",
        "outputId": "06568d9c-b399-41fb-89d2-d88ad0a36d02"
      },
      "outputs": [
        {
          "name": "stdout",
          "output_type": "stream",
          "text": [
            "Respuesta: La probabilidad de que un adulto mayor haga ejercicios de resistencia es de 21.28 %\n"
          ]
        }
      ],
      "source": [
        "print(f'Respuesta: La probabilidad de que un adulto mayor haga ejercicios de resistencia es de { round(inference.values[3] * 100, 2) } %')"
      ]
    }
  ],
  "metadata": {
    "colab": {
      "provenance": []
    },
    "kernelspec": {
      "display_name": "Python 3",
      "name": "python3"
    },
    "language_info": {
      "name": "python"
    },
    "widgets": {
      "application/vnd.jupyter.widget-state+json": {
        "1b1f2e02b75843de9674da1818b57d35": {
          "model_module": "@jupyter-widgets/controls",
          "model_module_version": "1.5.0",
          "model_name": "DescriptionStyleModel",
          "state": {
            "_model_module": "@jupyter-widgets/controls",
            "_model_module_version": "1.5.0",
            "_model_name": "DescriptionStyleModel",
            "_view_count": null,
            "_view_module": "@jupyter-widgets/base",
            "_view_module_version": "1.2.0",
            "_view_name": "StyleView",
            "description_width": ""
          }
        },
        "2c382757987445008aa4c7edf88618c9": {
          "model_module": "@jupyter-widgets/controls",
          "model_module_version": "1.5.0",
          "model_name": "DescriptionStyleModel",
          "state": {
            "_model_module": "@jupyter-widgets/controls",
            "_model_module_version": "1.5.0",
            "_model_name": "DescriptionStyleModel",
            "_view_count": null,
            "_view_module": "@jupyter-widgets/base",
            "_view_module_version": "1.2.0",
            "_view_name": "StyleView",
            "description_width": ""
          }
        },
        "40624794db74479bb7894c0ba29b70b7": {
          "model_module": "@jupyter-widgets/base",
          "model_module_version": "1.2.0",
          "model_name": "LayoutModel",
          "state": {
            "_model_module": "@jupyter-widgets/base",
            "_model_module_version": "1.2.0",
            "_model_name": "LayoutModel",
            "_view_count": null,
            "_view_module": "@jupyter-widgets/base",
            "_view_module_version": "1.2.0",
            "_view_name": "LayoutView",
            "align_content": null,
            "align_items": null,
            "align_self": null,
            "border": null,
            "bottom": null,
            "display": null,
            "flex": null,
            "flex_flow": null,
            "grid_area": null,
            "grid_auto_columns": null,
            "grid_auto_flow": null,
            "grid_auto_rows": null,
            "grid_column": null,
            "grid_gap": null,
            "grid_row": null,
            "grid_template_areas": null,
            "grid_template_columns": null,
            "grid_template_rows": null,
            "height": null,
            "justify_content": null,
            "justify_items": null,
            "left": null,
            "margin": null,
            "max_height": null,
            "max_width": null,
            "min_height": null,
            "min_width": null,
            "object_fit": null,
            "object_position": null,
            "order": null,
            "overflow": null,
            "overflow_x": null,
            "overflow_y": null,
            "padding": null,
            "right": null,
            "top": null,
            "visibility": null,
            "width": null
          }
        },
        "47ae58e2b76e4d9195f29e5a6b4a14eb": {
          "model_module": "@jupyter-widgets/controls",
          "model_module_version": "1.5.0",
          "model_name": "ProgressStyleModel",
          "state": {
            "_model_module": "@jupyter-widgets/controls",
            "_model_module_version": "1.5.0",
            "_model_name": "ProgressStyleModel",
            "_view_count": null,
            "_view_module": "@jupyter-widgets/base",
            "_view_module_version": "1.2.0",
            "_view_name": "StyleView",
            "bar_color": null,
            "description_width": ""
          }
        },
        "57774b4606db468a8a7cca8de787c073": {
          "model_module": "@jupyter-widgets/controls",
          "model_module_version": "1.5.0",
          "model_name": "HTMLModel",
          "state": {
            "_dom_classes": [],
            "_model_module": "@jupyter-widgets/controls",
            "_model_module_version": "1.5.0",
            "_model_name": "HTMLModel",
            "_view_count": null,
            "_view_module": "@jupyter-widgets/controls",
            "_view_module_version": "1.5.0",
            "_view_name": "HTMLView",
            "description": "",
            "description_tooltip": null,
            "layout": "IPY_MODEL_cf91f29473894aae97ca2014f5ab547e",
            "placeholder": "​",
            "style": "IPY_MODEL_1b1f2e02b75843de9674da1818b57d35",
            "value": "Building tree: 100%"
          }
        },
        "622302f76c8043ae9c7c6030b0386811": {
          "model_module": "@jupyter-widgets/base",
          "model_module_version": "1.2.0",
          "model_name": "LayoutModel",
          "state": {
            "_model_module": "@jupyter-widgets/base",
            "_model_module_version": "1.2.0",
            "_model_name": "LayoutModel",
            "_view_count": null,
            "_view_module": "@jupyter-widgets/base",
            "_view_module_version": "1.2.0",
            "_view_name": "LayoutView",
            "align_content": null,
            "align_items": null,
            "align_self": null,
            "border": null,
            "bottom": null,
            "display": null,
            "flex": null,
            "flex_flow": null,
            "grid_area": null,
            "grid_auto_columns": null,
            "grid_auto_flow": null,
            "grid_auto_rows": null,
            "grid_column": null,
            "grid_gap": null,
            "grid_row": null,
            "grid_template_areas": null,
            "grid_template_columns": null,
            "grid_template_rows": null,
            "height": null,
            "justify_content": null,
            "justify_items": null,
            "left": null,
            "margin": null,
            "max_height": null,
            "max_width": null,
            "min_height": null,
            "min_width": null,
            "object_fit": null,
            "object_position": null,
            "order": null,
            "overflow": null,
            "overflow_x": null,
            "overflow_y": null,
            "padding": null,
            "right": null,
            "top": null,
            "visibility": null,
            "width": null
          }
        },
        "76aba808b28d4cfdabb465e7840a7b93": {
          "model_module": "@jupyter-widgets/controls",
          "model_module_version": "1.5.0",
          "model_name": "FloatProgressModel",
          "state": {
            "_dom_classes": [],
            "_model_module": "@jupyter-widgets/controls",
            "_model_module_version": "1.5.0",
            "_model_name": "FloatProgressModel",
            "_view_count": null,
            "_view_module": "@jupyter-widgets/controls",
            "_view_module_version": "1.5.0",
            "_view_name": "ProgressView",
            "bar_style": "success",
            "description": "",
            "description_tooltip": null,
            "layout": "IPY_MODEL_9646c4be9e7b4c12b644e05818dbd595",
            "max": 45,
            "min": 0,
            "orientation": "horizontal",
            "style": "IPY_MODEL_47ae58e2b76e4d9195f29e5a6b4a14eb",
            "value": 45
          }
        },
        "7f032a19a1e945099e4a149214fd4bd1": {
          "model_module": "@jupyter-widgets/controls",
          "model_module_version": "1.5.0",
          "model_name": "HTMLModel",
          "state": {
            "_dom_classes": [],
            "_model_module": "@jupyter-widgets/controls",
            "_model_module_version": "1.5.0",
            "_model_name": "HTMLModel",
            "_view_count": null,
            "_view_module": "@jupyter-widgets/controls",
            "_view_module_version": "1.5.0",
            "_view_name": "HTMLView",
            "description": "",
            "description_tooltip": null,
            "layout": "IPY_MODEL_40624794db74479bb7894c0ba29b70b7",
            "placeholder": "​",
            "style": "IPY_MODEL_2c382757987445008aa4c7edf88618c9",
            "value": " 45/45.0 [00:00&lt;00:00, 534.96it/s]"
          }
        },
        "9646c4be9e7b4c12b644e05818dbd595": {
          "model_module": "@jupyter-widgets/base",
          "model_module_version": "1.2.0",
          "model_name": "LayoutModel",
          "state": {
            "_model_module": "@jupyter-widgets/base",
            "_model_module_version": "1.2.0",
            "_model_name": "LayoutModel",
            "_view_count": null,
            "_view_module": "@jupyter-widgets/base",
            "_view_module_version": "1.2.0",
            "_view_name": "LayoutView",
            "align_content": null,
            "align_items": null,
            "align_self": null,
            "border": null,
            "bottom": null,
            "display": null,
            "flex": null,
            "flex_flow": null,
            "grid_area": null,
            "grid_auto_columns": null,
            "grid_auto_flow": null,
            "grid_auto_rows": null,
            "grid_column": null,
            "grid_gap": null,
            "grid_row": null,
            "grid_template_areas": null,
            "grid_template_columns": null,
            "grid_template_rows": null,
            "height": null,
            "justify_content": null,
            "justify_items": null,
            "left": null,
            "margin": null,
            "max_height": null,
            "max_width": null,
            "min_height": null,
            "min_width": null,
            "object_fit": null,
            "object_position": null,
            "order": null,
            "overflow": null,
            "overflow_x": null,
            "overflow_y": null,
            "padding": null,
            "right": null,
            "top": null,
            "visibility": null,
            "width": null
          }
        },
        "cf91f29473894aae97ca2014f5ab547e": {
          "model_module": "@jupyter-widgets/base",
          "model_module_version": "1.2.0",
          "model_name": "LayoutModel",
          "state": {
            "_model_module": "@jupyter-widgets/base",
            "_model_module_version": "1.2.0",
            "_model_name": "LayoutModel",
            "_view_count": null,
            "_view_module": "@jupyter-widgets/base",
            "_view_module_version": "1.2.0",
            "_view_name": "LayoutView",
            "align_content": null,
            "align_items": null,
            "align_self": null,
            "border": null,
            "bottom": null,
            "display": null,
            "flex": null,
            "flex_flow": null,
            "grid_area": null,
            "grid_auto_columns": null,
            "grid_auto_flow": null,
            "grid_auto_rows": null,
            "grid_column": null,
            "grid_gap": null,
            "grid_row": null,
            "grid_template_areas": null,
            "grid_template_columns": null,
            "grid_template_rows": null,
            "height": null,
            "justify_content": null,
            "justify_items": null,
            "left": null,
            "margin": null,
            "max_height": null,
            "max_width": null,
            "min_height": null,
            "min_width": null,
            "object_fit": null,
            "object_position": null,
            "order": null,
            "overflow": null,
            "overflow_x": null,
            "overflow_y": null,
            "padding": null,
            "right": null,
            "top": null,
            "visibility": null,
            "width": null
          }
        },
        "f3349555af7c48ca805532c01cbfdcfb": {
          "model_module": "@jupyter-widgets/controls",
          "model_module_version": "1.5.0",
          "model_name": "HBoxModel",
          "state": {
            "_dom_classes": [],
            "_model_module": "@jupyter-widgets/controls",
            "_model_module_version": "1.5.0",
            "_model_name": "HBoxModel",
            "_view_count": null,
            "_view_module": "@jupyter-widgets/controls",
            "_view_module_version": "1.5.0",
            "_view_name": "HBoxView",
            "box_style": "",
            "children": [
              "IPY_MODEL_57774b4606db468a8a7cca8de787c073",
              "IPY_MODEL_76aba808b28d4cfdabb465e7840a7b93",
              "IPY_MODEL_7f032a19a1e945099e4a149214fd4bd1"
            ],
            "layout": "IPY_MODEL_622302f76c8043ae9c7c6030b0386811"
          }
        }
      }
    }
  },
  "nbformat": 4,
  "nbformat_minor": 0
}
